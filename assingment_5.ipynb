{
  "nbformat": 4,
  "nbformat_minor": 0,
  "metadata": {
    "colab": {
      "provenance": [],
      "authorship_tag": "ABX9TyP+gV3jmwSBz1ZOi+mxx4MT",
      "include_colab_link": true
    },
    "kernelspec": {
      "name": "python3",
      "display_name": "Python 3"
    },
    "language_info": {
      "name": "python"
    }
  },
  "cells": [
    {
      "cell_type": "markdown",
      "metadata": {
        "id": "view-in-github",
        "colab_type": "text"
      },
      "source": [
        "<a href=\"https://colab.research.google.com/github/srikanth7615/SRI/blob/main/assingment_5.ipynb\" target=\"_parent\"><img src=\"https://colab.research.google.com/assets/colab-badge.svg\" alt=\"Open In Colab\"/></a>"
      ]
    },
    {
      "cell_type": "code",
      "execution_count": 9,
      "metadata": {
        "colab": {
          "base_uri": "https://localhost:8080/"
        },
        "id": "07QnhxtHe_1k",
        "outputId": "d8882091-8f5d-4d72-81fc-d2ec39cf63a7"
      },
      "outputs": [
        {
          "output_type": "stream",
          "name": "stdout",
          "text": [
            "Accuracy: 1.0\n",
            "Classification Report For Navie Bayes:\n",
            "              precision    recall  f1-score   support\n",
            "\n",
            "           0       1.00      1.00      1.00        10\n",
            "           1       1.00      1.00      1.00         9\n",
            "           2       1.00      1.00      1.00        11\n",
            "\n",
            "    accuracy                           1.00        30\n",
            "   macro avg       1.00      1.00      1.00        30\n",
            "weighted avg       1.00      1.00      1.00        30\n",
            "\n"
          ]
        }
      ],
      "source": [
        "from sklearn.datasets import load_iris\n",
        "from sklearn.model_selection import train_test_split\n",
        "from sklearn.naive_bayes import GaussianNB\n",
        "from sklearn.metrics import classification_report\n",
        "\n",
        "glass_data_sri = load_iris() #loading the data set using load_iris() function\n",
        "X = glass_data_sri.data    # splitting the data into features\n",
        "y = glass_data_sri.target\n",
        "#splitting data into traing and testing data sets\n",
        "X_train, X_test, y_train, y_test = train_test_split(X, y, test_size=0.2, random_state=42)\n",
        "navie_bayes_classifier = GaussianNB() # implementing navie_bayes classifier using GaussianNB()\n",
        "navie_bayes_classifier.fit(X_train, y_train)#training the data with fit() method\n",
        "y_pred = navie_bayes_classifier.predict(X_test)# making predictions on the trained data using predict() method\n",
        "accuracy = navie_bayes_classifier.score(X_test, y_test)# claculating accuracy by using score() method\n",
        "print(\"Accuracy:\", accuracy)\n",
        "report = classification_report(y_test, y_pred)# generating the classification report\n",
        "print(\"Classification Report For Navie Bayes:\")\n",
        "print(report)"
      ]
    },
    {
      "cell_type": "code",
      "source": [
        "from sklearn.svm import SVC\n",
        "from sklearn.metrics import classification_report\n",
        "\n",
        "svm_classifier_sri= SVC(kernel='linear') #implementing the SVM classifier\n",
        "svm_classifier_sri.fit(X_train, y_train)# training the classifier\n",
        "y_pred_svm = svm_classifier_sri.predict(X_test) # making predictions on the trained data using predict() method\n",
        "accuracy_svm = svm_classifier_sri.score(X_test, y_test) # calculating accuracy\n",
        "print(\"Linear SVM Accuracy:\", accuracy_svm)\n",
        "report_svm = classification_report(y_test, y_pred_svm)\n",
        "print(\"Classification Report for Linear SVM:\")# generating classification report\n",
        "print(report_svm)"
      ],
      "metadata": {
        "colab": {
          "base_uri": "https://localhost:8080/"
        },
        "id": "GhI3McJbgMvO",
        "outputId": "b36d4bc7-8d40-4203-b943-66f54a0b9bcf"
      },
      "execution_count": 10,
      "outputs": [
        {
          "output_type": "stream",
          "name": "stdout",
          "text": [
            "Linear SVM Accuracy: 1.0\n",
            "Classification Report for Linear SVM:\n",
            "              precision    recall  f1-score   support\n",
            "\n",
            "           0       1.00      1.00      1.00        10\n",
            "           1       1.00      1.00      1.00         9\n",
            "           2       1.00      1.00      1.00        11\n",
            "\n",
            "    accuracy                           1.00        30\n",
            "   macro avg       1.00      1.00      1.00        30\n",
            "weighted avg       1.00      1.00      1.00        30\n",
            "\n"
          ]
        }
      ]
    }
  ]
}