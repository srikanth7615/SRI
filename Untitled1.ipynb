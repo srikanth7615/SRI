{
  "nbformat": 4,
  "nbformat_minor": 0,
  "metadata": {
    "colab": {
      "provenance": [],
      "authorship_tag": "ABX9TyP6vFDHVAlBXn3kp0Om7yqN",
      "include_colab_link": true
    },
    "kernelspec": {
      "name": "python3",
      "display_name": "Python 3"
    },
    "language_info": {
      "name": "python"
    }
  },
  "cells": [
    {
      "cell_type": "markdown",
      "metadata": {
        "id": "view-in-github",
        "colab_type": "text"
      },
      "source": [
        "<a href=\"https://colab.research.google.com/github/srikanth7615/sri/blob/main/Untitled1.ipynb\" target=\"_parent\"><img src=\"https://colab.research.google.com/assets/colab-badge.svg\" alt=\"Open In Colab\"/></a>"
      ]
    },
    {
      "cell_type": "code",
      "execution_count": null,
      "metadata": {
        "colab": {
          "base_uri": "https://localhost:8080/"
        },
        "id": "E-nS1ZRPw_g7",
        "outputId": "1892a826-e9c1-41fd-d7c4-918b3a691b7e"
      },
      "outputs": [
        {
          "output_type": "stream",
          "name": "stdout",
          "text": [
            "enter a string:python\n",
            "['t', 'h', 'o', 'n']\n",
            "noht\n"
          ]
        }
      ],
      "source": [
        "input_str = list(input(\"enter a string:\")) #user defined string\n",
        "if len(input_str)>= 2:\n",
        " del input_str[:2] # deleting two characters from the string\n",
        " print(input_str)  # printing the output after deletion\n",
        " res_str=input_str[::-1] # Reversing the string after deletion\n",
        " print(\"\".join(res_str)) # printing the final reversed String\n",
        "\n",
        "\n",
        "\n",
        "\n",
        "\n"
      ]
    },
    {
      "cell_type": "code",
      "source": [
        "num1=int(input(\"First number\"))      # user defined numbers\n",
        "num2=int(input(\"Second number\"))\n",
        "sum=num1+num2           #addition of numbers\n",
        "difference=num1-num2    # subtraction of numbers\n",
        "product=num1*num2       # Product of two Numbers\n",
        "quotient=num1/num2      # Divison of two numbers\n",
        "print(sum)\n",
        "print(difference)\n",
        "print(product)\n",
        "print(quotient)\n"
      ],
      "metadata": {
        "colab": {
          "base_uri": "https://localhost:8080/"
        },
        "id": "j5R13Al61dxA",
        "outputId": "f79f2102-aef7-453e-be2c-5dc2e1fa79ee"
      },
      "execution_count": null,
      "outputs": [
        {
          "output_type": "stream",
          "name": "stdout",
          "text": [
            "First number4\n",
            "Second number2\n",
            "6\n",
            "2\n",
            "8\n",
            "2.0\n"
          ]
        }
      ]
    },
    {
      "cell_type": "code",
      "source": [
        "sentence = (\"i love playing with python\")\n",
        "print(sentence)          # printing the sentence which is given\n",
        "output_sentence= sentence.replace('python','pythons') # Replacing the given \"python\" with \"Pythons\"\n",
        "print(output_sentence)"
      ],
      "metadata": {
        "colab": {
          "base_uri": "https://localhost:8080/"
        },
        "id": "tZ3BQRzv6BbN",
        "outputId": "5603ee6a-f041-4e50-8a42-b4820c519b5f"
      },
      "execution_count": null,
      "outputs": [
        {
          "output_type": "stream",
          "name": "stdout",
          "text": [
            "i love playing with python\n",
            "i love playing with pythons\n"
          ]
        }
      ]
    },
    {
      "cell_type": "code",
      "source": [
        "cls_score=int(input(\"Enter the score:\"))\n",
        "if cls_score>=90:   # if class score is greater than or equal to 90 then the grade is A\n",
        "  grade='A'\n",
        "elif 80<=cls_score<90:  # if class score is greater than or equal to 80 and  <90 then the grade is B\n",
        "  grade='B'\n",
        "elif 70<=cls_score<80: # if class score is greater than or equal to 70 and  <80 then the grade is C\n",
        "  grade='C'\n",
        "elif 60<=cls_score<70: # if class score is greater than or equal to 60 and  <70 then the grade is D\n",
        "  grade='D'\n",
        "else:\n",
        "  grade='F'   # if score <60 then grade F means Fail\n",
        "\n",
        "print(f\"The grade is:{grade}\") #printing the Grade\n",
        "                               # \"f string \" is used to include variable values in the printed output\n",
        "\n"
      ],
      "metadata": {
        "colab": {
          "base_uri": "https://localhost:8080/"
        },
        "id": "PABOo4Ay71tN",
        "outputId": "dba7e4c1-b876-47a1-b88c-9abb55427102"
      },
      "execution_count": null,
      "outputs": [
        {
          "output_type": "stream",
          "name": "stdout",
          "text": [
            "Enter the score:90\n",
            "The grade is:A\n"
          ]
        }
      ]
    },
    {
      "cell_type": "markdown",
      "source": [],
      "metadata": {
        "id": "rp09YFTbRDNY"
      }
    },
    {
      "cell_type": "code",
      "source": [],
      "metadata": {
        "id": "x08F19s9RD_4"
      },
      "execution_count": null,
      "outputs": []
    }
  ]
}